{
 "cells": [
  {
   "cell_type": "markdown",
   "metadata": {},
   "source": [
    "# Predict whether salary will be above or below 50K\n",
    "  * Project by Akshay"
   ]
  },
  {
   "cell_type": "markdown",
   "metadata": {},
   "source": [
    "## Objective\n",
    "* Predict whether the salary of people is above or below 50K on the basis of various factors such as workclass, education, occupation, marital_status, sex, race.\n",
    "\n",
    "* Use a random forest algorithm\n",
    "  * Train on a portion of the dataset\n",
    "  * Test the trained model against the remainder of the dataset\n",
    "    * Accuracy can be determined because the dataset is labeled (i.e., this uses supervised learning)"
   ]
  },
  {
   "cell_type": "markdown",
   "metadata": {},
   "source": [
    "## Download dataset\n",
    "  * Dataset: https://archive.ics.uci.edu/ml/machine-learning-databases/adult/"
   ]
  },
  {
   "cell_type": "markdown",
   "metadata": {},
   "source": [
    "### Column Description\n",
    "  * The dataset does not contain the header row and we need to add it explicitly.\n",
    "  * Below is the description of  columns in the order they appear in the dataset:\n",
    "  \t*<br/><b>age</b>: continuous.\n",
    "\t*<br/><b>workclass</b>: Private, Self-emp-not-inc, Self-emp-inc, Federal-gov, Local-gov, State-gov, Without-pay, Never-worked.\n",
    "\t*<br/><b>fnlwgt</b>: continuous.\n",
    "\t*<br/><b>education</b>: Bachelors, Some-college, 11th, HS-grad, Prof-school, Assoc-acdm, Assoc-voc, 9th, 7th-8th, 12th, Masters, 1st-4th, 10th, Doctorate, 5th-6th, Preschool.\n",
    "\t*<br/><b>education-num</b>: continuous.\n",
    "\t*<br/><b>marital-status</b>: Married-civ-spouse, Divorced, Never-married, Separated, Widowed, Married-spouse-absent, Married-AF-spouse.\n",
    "\t*<br/><b>occupation</b>: Tech-support, Craft-repair, Other-service, Sales, Exec-managerial, Prof-specialty, Handlers-cleaners, Machine-op-inspct, Adm-clerical, Farming-fishing, Transport-moving, Priv-house-serv, Protective-serv, Armed-Forces.\n",
    "\t*<br/><b>relationship</b>: Wife, Own-child, Husband, Not-in-family, Other-relative, Unmarried.\n",
    "\t*<br/><b>race</b>: White, Asian-Pac-Islander, Amer-Indian-Eskimo, Other, Black.\n",
    "\t*<br/><b>sex</b>: Female, Male.\n",
    "\t*<br/><b>capital-gain</b>: continuous.\n",
    "\t*<br/><b>capital-loss</b>: continuous.\n",
    "\t*<br/><b>hours-per-week</b>: continuous.\n",
    "\t*<br/><b>native-country</b>: United-States, Cambodia, England, Puerto-Rico, Canada, Germany, Outlying-US(Guam-USVI-etc), India, Japan, Greece, South, China, Cuba, Iran, Honduras, Philippines, Italy, Poland, Jamaica, Vietnam, Mexico, Portugal, Ireland, France, Dominican-Republic, Laos, Ecuador, Taiwan, Haiti, Columbia, Hungary, Guatemala, Nicaragua, Scotland, Thailand, Yugoslavia, El-Salvador, Trinadad&Tobago, Peru, Hong, Holand-Netherlands"
   ]
  },
  {
   "cell_type": "code",
   "execution_count": 5,
   "metadata": {
    "collapsed": true
   },
   "outputs": [],
   "source": [
    "%sh\n",
    "mkdir -p kaggle_project\n",
    "curl 'https://archive.ics.uci.edu/ml/machine-learning-databases/adult/adult.data' > kaggle_project/adult.data\n",
    "ls kaggle_project"
   ]
  },
  {
   "cell_type": "code",
   "execution_count": 6,
   "metadata": {
    "collapsed": true
   },
   "outputs": [],
   "source": [
    "#read the adult.data file as CSV\n",
    "# we keep header option as false since the file does not have any headers and we want default names\n",
    "df_data = spark.read\\\n",
    "  .format('org.apache.spark.sql.execution.datasources.csv.CSVFileFormat')\\\n",
    "  .option('header', 'false')\\\n",
    "  .option('inferSchema', 'true')\\\n",
    "  .load(\"file:/databricks/driver/kaggle_project/adult.data\")\n",
    "df_data.show(3)"
   ]
  },
  {
   "cell_type": "code",
   "execution_count": 7,
   "metadata": {
    "collapsed": true
   },
   "outputs": [],
   "source": [
    "df_data.printSchema()"
   ]
  },
  {
   "cell_type": "markdown",
   "metadata": {},
   "source": [
    "##Select only the relevant columns from the dataset and rename the columns"
   ]
  },
  {
   "cell_type": "code",
   "execution_count": 9,
   "metadata": {
    "collapsed": true
   },
   "outputs": [],
   "source": [
    "df = df_data.selectExpr('_c0 as age','_c1 as WorkClass', '_c3 as education', '_c5 as marital_status', '_c6 as occupation', '_c8 as race', '_c9 as sex', '_c12 as hoursPerWeek', '_c13 as native_country','_c14 as Salary')"
   ]
  },
  {
   "cell_type": "markdown",
   "metadata": {},
   "source": [
    "## Data Cleaning"
   ]
  },
  {
   "cell_type": "code",
   "execution_count": 11,
   "metadata": {
    "collapsed": true
   },
   "outputs": [],
   "source": [
    "#Remove all rows where WorkClass = ? or Occupation = ?\n",
    "df = df.where(~(df.WorkClass.contains('?') | df.occupation.contains('?')))"
   ]
  },
  {
   "cell_type": "markdown",
   "metadata": {},
   "source": [
    "## Data explored and explained"
   ]
  },
  {
   "cell_type": "code",
   "execution_count": 13,
   "metadata": {
    "collapsed": true
   },
   "outputs": [],
   "source": [
    "df.printSchema()"
   ]
  },
  {
   "cell_type": "code",
   "execution_count": 14,
   "metadata": {
    "collapsed": true
   },
   "outputs": [],
   "source": [
    "df.show(30)"
   ]
  },
  {
   "cell_type": "code",
   "execution_count": 15,
   "metadata": {
    "collapsed": true
   },
   "outputs": [],
   "source": [
    "df.registerTempTable('adultTbl')"
   ]
  },
  {
   "cell_type": "code",
   "execution_count": 16,
   "metadata": {
    "collapsed": true
   },
   "outputs": [],
   "source": [
    "%sql\n",
    "--We see the number of distinct values for each column\n",
    "select count(distinct sex) as DistinctSexCount, count(distinct education) as DistinctEduCnt, count(distinct marital_status) as DistinctMarCnt, count(distinct occupation) as DistinctOccCnt, count(distinct workclass) as DistinctWorkClassCnt, count(distinct race) as DistinctRaceCnt, count(distinct age) as DistinctAgeCnt, count(distinct native_country) as DistinctCountryCnt, count(distinct hoursPerWeek) as DistinctHoursCnt from adultTbl;"
   ]
  },
  {
   "cell_type": "code",
   "execution_count": 17,
   "metadata": {
    "collapsed": true
   },
   "outputs": [],
   "source": [
    "df.select('Salary').distinct().show()"
   ]
  },
  {
   "cell_type": "code",
   "execution_count": 18,
   "metadata": {
    "collapsed": true
   },
   "outputs": [],
   "source": [
    "df.select('Salary').groupBy('Salary').count().show()"
   ]
  },
  {
   "cell_type": "markdown",
   "metadata": {},
   "source": [
    "## Visualizations in Tableau \n",
    "  \n",
    " * The tableau book (Kaggle_project_visualizations.twb) has been provided along with this notebook.\n",
    " * The visualizations have also been provided in jpeg format. \n",
    " * Alternately, they can be found at the below links:\n",
    "   * Salary vs Occupation vs Sex\n",
    "     * https://photos.app.goo.gl/PU21ojo1BQwJfcXu2\n",
    "   * Salary vs Work vs Class\n",
    "     * https://photos.app.goo.gl/YWFh3WrGtzkIO0Ta2\n",
    "   * Salary vs Race vs Age-group\n",
    "     * https://photos.app.goo.gl/VxaKiV0gUrcCuuoc2"
   ]
  },
  {
   "cell_type": "code",
   "execution_count": 20,
   "metadata": {
    "collapsed": true
   },
   "outputs": [],
   "source": [
    "df.count()"
   ]
  },
  {
   "cell_type": "markdown",
   "metadata": {},
   "source": [
    "## Data transformation"
   ]
  },
  {
   "cell_type": "code",
   "execution_count": 22,
   "metadata": {
    "collapsed": true
   },
   "outputs": [],
   "source": [
    "splitted_data = df.randomSplit([0.8, 0.18, 0.02], 24)\n",
    "train_data = splitted_data[0]\n",
    "test_data = splitted_data[1]\n",
    "predict_data = splitted_data[2]\n",
    "\n",
    "print \"Number of training records: \" + str(train_data.count())\n",
    "print \"Number of testing records : \" + str(test_data.count())\n",
    "print \"Number of prediction records : \" + str(predict_data.count())"
   ]
  },
  {
   "cell_type": "markdown",
   "metadata": {},
   "source": [
    "## Data modeling"
   ]
  },
  {
   "cell_type": "code",
   "execution_count": 24,
   "metadata": {
    "collapsed": true
   },
   "outputs": [],
   "source": [
    "from pyspark.ml.feature import OneHotEncoder, StringIndexer, IndexToString, VectorAssembler\n",
    "from pyspark.ml.classification import RandomForestClassifier\n",
    "from pyspark.ml.evaluation import MulticlassClassificationEvaluator\n",
    "from pyspark.ml import Pipeline, Model"
   ]
  },
  {
   "cell_type": "code",
   "execution_count": 25,
   "metadata": {
    "collapsed": true
   },
   "outputs": [],
   "source": [
    "#Check the schema once again to know the names of the columns\n",
    "df.printSchema()"
   ]
  },
  {
   "cell_type": "code",
   "execution_count": 26,
   "metadata": {
    "collapsed": true
   },
   "outputs": [],
   "source": [
    "SexTypes = int(df.select('sex').distinct().count())\n",
    "EducationTypes = int(df.select('education').distinct().count())\n",
    "Marital_stat_type = int(df.select('marital_status').distinct().count())\n",
    "OccupationTypes = int(df.select('occupation').distinct().count())\n",
    "WorkClassTypes = int(df.select('workclass').distinct().count())\n",
    "RaceTypes = int(df.select('race').distinct().count())\n",
    "DistinctAges = int(df.select('age').distinct().count()) \n",
    "DistinctCountries = int(df.select('native_country').distinct().count())\n",
    "DistinctHours = int(df.select('hoursPerWeek').distinct().count())\n",
    "\n",
    "print [['SexTypes', SexTypes], ['EducationTypes', EducationTypes], ['Marital_stat_type', Marital_stat_type], ['OccupationTypes', OccupationTypes], ['WorkClassTypes', WorkClassTypes],['RaceTypes', RaceTypes],['DistinctAges', DistinctAges],['DistinctCountries', DistinctCountries],['DistinctHours', DistinctHours]]\n",
    "resultDF = sqlContext.createDataFrame([['SexTypes', SexTypes], ['EducationTypes', EducationTypes], ['Marital_stat_type', Marital_stat_type], ['OccupationTypes', OccupationTypes], ['WorkClassTypes', WorkClassTypes],['RaceTypes', RaceTypes],['DistinctAges', DistinctAges],['DistinctCountries', DistinctCountries],['DistinctHours', DistinctHours]], ['metric', 'value'])\n",
    "display(resultDF)"
   ]
  },
  {
   "cell_type": "markdown",
   "metadata": {},
   "source": [
    "## Observation:\n",
    " * Thus we see that there are <b>large number of distinct values</b> for the columns <b>Age</b>, <b>Country</b> and <b>HoursPerWeek</b>.\n",
    " * We will leave out these features as it will affect the accuracy of our model.\n",
    " * Thus we will determine whether the Salary of a person is <= 50K or >50K on the basis of his <b>education</b>, <b>occupation</b>, <b>sex</b>, <b>marital_status</b>, <b>workClass</b> and <b>Race</b>."
   ]
  },
  {
   "cell_type": "code",
   "execution_count": 28,
   "metadata": {
    "collapsed": true
   },
   "outputs": [],
   "source": [
    "stringIndexer_label = StringIndexer(inputCol=\"Salary\", outputCol=\"label\").fit(df)\n",
    "# Note the above outputCol is label (the predicted column). Here we predict the Salary(above) from the attributes below.\n",
    "stringIndexer_WC = StringIndexer(inputCol=\"WorkClass\", outputCol=\"WORKCLASS_IX\")\n",
    "stringIndexer_edu = StringIndexer(inputCol=\"education\", outputCol=\"EDUCATION_IX\")\n",
    "stringIndexer_mariStat = StringIndexer(inputCol=\"marital_status\", outputCol=\"MARITAL_STATUS_IX\")\n",
    "stringIndexer_occuptn = StringIndexer(inputCol=\"occupation\", outputCol=\"OCCUPATION_IX\")\n",
    "stringIndexer_race = StringIndexer(inputCol=\"race\", outputCol=\"RACE_IX\")\n",
    "stringIndexer_sex = StringIndexer(inputCol=\"sex\", outputCol=\"SEX_IX\")"
   ]
  },
  {
   "cell_type": "code",
   "execution_count": 29,
   "metadata": {
    "collapsed": true
   },
   "outputs": [],
   "source": [
    "# Select the input columns for the model (and put them into one features column)\n",
    "vectorAssembler_features = VectorAssembler(inputCols=[\"WORKCLASS_IX\", \"EDUCATION_IX\", \"MARITAL_STATUS_IX\", \"OCCUPATION_IX\", \"RACE_IX\", \"SEX_IX\"], outputCol=\"features\")"
   ]
  },
  {
   "cell_type": "code",
   "execution_count": 30,
   "metadata": {
    "collapsed": true
   },
   "outputs": [],
   "source": [
    "# The model\n",
    "rf = RandomForestClassifier(labelCol=\"label\", featuresCol=\"features\")"
   ]
  },
  {
   "cell_type": "code",
   "execution_count": 31,
   "metadata": {
    "collapsed": true
   },
   "outputs": [],
   "source": [
    "# Columns for the output\n",
    "# Convert from indexed labels (added above) back to original labels.\n",
    "# https://spark.apache.org/docs/2.0.2/api/python/pyspark.ml.html#pyspark.ml.feature.IndexToString\n",
    "labelConverter = IndexToString(inputCol=\"prediction\", outputCol=\"predictedLabel\", labels=stringIndexer_label.labels)"
   ]
  },
  {
   "cell_type": "code",
   "execution_count": 32,
   "metadata": {
    "collapsed": true
   },
   "outputs": [],
   "source": [
    "# The ML pipeline\n",
    "pipeline_rf = Pipeline(stages=[stringIndexer_label, stringIndexer_WC, stringIndexer_edu, stringIndexer_mariStat, stringIndexer_occuptn, stringIndexer_race, stringIndexer_sex, vectorAssembler_features, rf, labelConverter])"
   ]
  },
  {
   "cell_type": "code",
   "execution_count": 33,
   "metadata": {
    "collapsed": true
   },
   "outputs": [],
   "source": [
    "# Model training\n",
    "model_rf = pipeline_rf.fit(train_data)"
   ]
  },
  {
   "cell_type": "markdown",
   "metadata": {},
   "source": [
    "## Model evaluation"
   ]
  },
  {
   "cell_type": "code",
   "execution_count": 35,
   "metadata": {
    "collapsed": true
   },
   "outputs": [],
   "source": [
    "# Model quality\n",
    "predictions = model_rf.transform(test_data)\n",
    "evaluatorRF = MulticlassClassificationEvaluator(labelCol=\"label\", predictionCol=\"prediction\", metricName=\"accuracy\")\n",
    "accuracy = evaluatorRF.evaluate(predictions)\n",
    "print(\"Accuracy = %g\" % accuracy)\n",
    "print(\"Test Error = %g\" % (1.0 - accuracy))"
   ]
  },
  {
   "cell_type": "code",
   "execution_count": 36,
   "metadata": {
    "collapsed": true
   },
   "outputs": [],
   "source": [
    "display(predictions)"
   ]
  },
  {
   "cell_type": "code",
   "execution_count": 37,
   "metadata": {
    "collapsed": true
   },
   "outputs": [],
   "source": [
    "#Number of predictions predicting above 50K salary and below 50K salary\n",
    "# above 50K -> 1.0\n",
    "# below 50K -> 0.0\n",
    "predictions.select('prediction').groupBy('prediction').count().show()"
   ]
  },
  {
   "cell_type": "code",
   "execution_count": 38,
   "metadata": {
    "collapsed": true
   },
   "outputs": [],
   "source": [
    "correct = predictions.where(\"(label = prediction)\").count()\n",
    "incorrect = predictions.where(\"(label != prediction)\").count()\n",
    "\n",
    "resultDF = sqlContext.createDataFrame([['correct', correct], ['incorrect', incorrect]], ['metric', 'value'])\n",
    "display(resultDF)"
   ]
  }
 ],
 "metadata": {
  "kernelspec": {
   "display_name": "Python 3",
   "language": "python",
   "name": "python3"
  },
  "language_info": {
   "codemirror_mode": {
    "name": "ipython",
    "version": 3
   },
   "file_extension": ".py",
   "mimetype": "text/x-python",
   "name": "python",
   "nbconvert_exporter": "python",
   "pygments_lexer": "ipython3",
   "version": "3.6.1"
  },
  "name": "Kaggle_Project",
  "notebookId": 3005961515476152
 },
 "nbformat": 4,
 "nbformat_minor": 1
}
